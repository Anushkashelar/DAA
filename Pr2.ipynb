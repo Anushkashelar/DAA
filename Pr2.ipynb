{
 "cells": [
  {
   "cell_type": "code",
   "execution_count": 1,
   "id": "59410887-bac3-4a88-b7a2-90daf51b721b",
   "metadata": {},
   "outputs": [
    {
     "name": "stdin",
     "output_type": "stream",
     "text": [
      "Enter the capacity:  50\n",
      "Enter the number of items:  3\n",
      "Enter the profit:  100\n",
      "Enter the weight:  20\n",
      "Enter the profit:  60\n",
      "Enter the weight:  10\n",
      "Enter the profit:  120\n",
      "Enter the weight:  30\n"
     ]
    },
    {
     "name": "stdout",
     "output_type": "stream",
     "text": [
      "240.0\n"
     ]
    }
   ],
   "source": [
    "def fractional_knapsack(W, profit, weight):\n",
    "    items = [(profit[i] / weight[i], profit[i], weight[i]) for i in range(len(profit))]\n",
    "    items.sort(key=lambda x: x[0], reverse=True)\n",
    "    final_value = 0.0\n",
    "    for ratio, profit, weight in items:\n",
    "        if weight <= W:\n",
    "            W -= weight\n",
    "            final_value += profit\n",
    "        else:\n",
    "            final_value += profit * W / weight\n",
    "            break\n",
    "    return final_value\n",
    "W = int(input(\"Enter the capacity: \"))\n",
    "n = int(input(\"Enter the number of items: \"))\n",
    "profit = []\n",
    "weight = []\n",
    "for i in range(n):\n",
    "    profit.append(int(input(\"Enter the profit: \")))\n",
    "    weight.append(int(input(\"Enter the weight: \")))\n",
    "print(fractional_knapsack(W, profit, weight))"
   ]
  },
  {
   "cell_type": "code",
   "execution_count": null,
   "id": "002ad36b-f98d-43b7-ba0c-4316c1d38828",
   "metadata": {},
   "outputs": [],
   "source": []
  }
 ],
 "metadata": {
  "kernelspec": {
   "display_name": "Python 3 (ipykernel)",
   "language": "python",
   "name": "python3"
  },
  "language_info": {
   "codemirror_mode": {
    "name": "ipython",
    "version": 3
   },
   "file_extension": ".py",
   "mimetype": "text/x-python",
   "name": "python",
   "nbconvert_exporter": "python",
   "pygments_lexer": "ipython3",
   "version": "3.10.12"
  }
 },
 "nbformat": 4,
 "nbformat_minor": 5
}
