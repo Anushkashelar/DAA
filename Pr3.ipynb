{
 "cells": [
  {
   "cell_type": "code",
   "execution_count": 6,
   "id": "cc2e4e0f-08e3-44ad-a6ed-fc170451bd7f",
   "metadata": {},
   "outputs": [],
   "source": [
    "def knapsack_dp(W, wt, val, n):\n",
    "    K = [[0 for x in range(W + 1)] for x in range(n + 1)]\n",
    "    for i in range(n + 1):\n",
    "        for w in range(W + 1):\n",
    "            if i == 0 or w == 0:\n",
    "                K[i][w] = 0\n",
    "            elif wt[i-1] <= w:\n",
    "                K[i][w] = max(val[i-1] + K[i-1][w-wt[i-1]], K[i-1][w])\n",
    "            else:\n",
    "                K[i][w] = K[i-1][w]\n",
    "    \n",
    "    return K[n][W]"
   ]
  },
  {
   "cell_type": "code",
   "execution_count": 8,
   "id": "6f07093e-770b-41ea-9095-fdaf2688fd3e",
   "metadata": {},
   "outputs": [
    {
     "name": "stdin",
     "output_type": "stream",
     "text": [
      "Enter the capacity:  20\n",
      "Enter the number of items:  3\n",
      "Enter the profit:  24\n",
      "Enter the weight:  18\n",
      "Enter the profit:  25\n",
      "Enter the weight:  15\n",
      "Enter the profit:  15\n",
      "Enter the weight:  20\n"
     ]
    },
    {
     "name": "stdout",
     "output_type": "stream",
     "text": [
      "25\n"
     ]
    }
   ],
   "source": [
    "W = int(input(\"Enter the capacity: \"))\n",
    "n = int(input(\"Enter the number of items: \"))\n",
    "value = []\n",
    "weight = []\n",
    "for i in range(n):\n",
    "    value.append(int(input(\"Enter the profit: \")))\n",
    "    weight.append(int(input(\"Enter the weight: \")))\n",
    "print(knapsack_dp(W, weight, value, n))"
   ]
  },
  {
   "cell_type": "code",
   "execution_count": null,
   "id": "6b79e87e-4bc2-47ae-a898-79124532765c",
   "metadata": {},
   "outputs": [],
   "source": []
  }
 ],
 "metadata": {
  "kernelspec": {
   "display_name": "Python 3 (ipykernel)",
   "language": "python",
   "name": "python3"
  },
  "language_info": {
   "codemirror_mode": {
    "name": "ipython",
    "version": 3
   },
   "file_extension": ".py",
   "mimetype": "text/x-python",
   "name": "python",
   "nbconvert_exporter": "python",
   "pygments_lexer": "ipython3",
   "version": "3.10.12"
  }
 },
 "nbformat": 4,
 "nbformat_minor": 5
}
