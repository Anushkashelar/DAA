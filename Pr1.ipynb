{
 "cells": [
  {
   "cell_type": "code",
   "execution_count": null,
   "id": "1331b8f0",
   "metadata": {
    "vscode": {
     "languageId": "plaintext"
    }
   },
   "outputs": [],
   "source": [
    "def iterative_fibonacci(n):\n",
    "    if n <= 0:\n",
    "        return \"Input should be a positive integer.\"\n",
    "    elif n == 1:\n",
    "        print(0)  # For n = 1, only the first Fibonacci number is printed\n",
    "        return 0\n",
    "    elif n == 2:\n",
    "        print(0, 1)  # For n = 2, print the first two Fibonacci numbers\n",
    "        return 1\n",
    "    \n",
    "    a, b = 0, 1\n",
    "    print(a, b, end=\" \")  # Print the first two Fibonacci numbers\n",
    "    \n",
    "    for i in range(2, n):\n",
    "        c = a + b\n",
    "        print(c, end=\" \")  # Print the next Fibonacci number\n",
    "        a, b = b, c  # Update a and b for the next iteration\n",
    "    \n",
    "    print()  # For a new line after printing the series\n",
    "    return b  # b now holds the nth Fibonacci number\n",
    "\n",
    "\n",
    "# Get user input\n",
    "n = int(input(\"Enter the limit: \"))\n",
    "a = iterative_fibonacci(n)\n",
    "print(f\"The {n}th Fibonacci number is: {a}\")"
   ]
  },
  {
   "cell_type": "code",
   "execution_count": null,
   "id": "db13ed7d",
   "metadata": {
    "vscode": {
     "languageId": "plaintext"
    }
   },
   "outputs": [],
   "source": [
    "def recursive_fibonacci(n):\n",
    "    if n <= 1:\n",
    "        return n\n",
    "    else:\n",
    "        return recursive_fibonacci(n - 1) + recursive_fibonacci(n - 2)\n",
    "\n",
    "\n",
    "# Get user input\n",
    "n = int(input(\"Enter the limit: \"))\n",
    "\n",
    "# Print Fibonacci numbers recursively\n",
    "print(\"Fibonacci sequence:\")\n",
    "for i in range(n):\n",
    "    print(recursive_fibonacci(i), end=\" \")\n",
    "\n",
    "print()  # For a new line\n",
    "\n",
    "# Print the nth Fibonacci number (adjusted for 0-indexing)\n",
    "print(f\"The {n}th Fibonacci number is: {recursive_fibonacci(n-1)}\")"
   ]
  }
 ],
 "metadata": {
  "kernelspec": {
   "display_name": "Python 3 (ipykernel)",
   "language": "python",
   "name": "python3"
  },
  "language_info": {
   "codemirror_mode": {
    "name": "ipython",
    "version": 3
   },
   "file_extension": ".py",
   "mimetype": "text/x-python",
   "name": "python",
   "nbconvert_exporter": "python",
   "pygments_lexer": "ipython3",
   "version": "3.8.10"
  }
 },
 "nbformat": 4,
 "nbformat_minor": 5
}
