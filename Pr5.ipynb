{
 "cells": [
  {
   "cell_type": "code",
   "execution_count": 4,
   "id": "7cfe61df-5fe3-454d-b00d-ad6c828b9278",
   "metadata": {},
   "outputs": [],
   "source": [
    "import random"
   ]
  },
  {
   "cell_type": "code",
   "execution_count": 5,
   "id": "636ec0b5-158d-4fc9-b972-f1ad80a31ef0",
   "metadata": {},
   "outputs": [],
   "source": [
    "def quick_sort_deterministic(arr):\n",
    "    if len(arr) <= 1:\n",
    "        return arr\n",
    "    pivot = arr[0]\n",
    "    left = [x for x in arr[1:] if x < pivot]\n",
    "    right = [x for x in arr[1:] if x >= pivot]\n",
    "    return quick_sort_deterministic(left) + [pivot] + quick_sort_deterministic(right)"
   ]
  },
  {
   "cell_type": "code",
   "execution_count": 6,
   "id": "47961aae-83df-43f6-9d95-2e30418b8a71",
   "metadata": {},
   "outputs": [],
   "source": [
    "def quick_sort_randomized(arr):\n",
    "    if len(arr) <= 1:\n",
    "        return arr\n",
    "    pivot_index = random.randint(0, len(arr) - 1)\n",
    "    arr[0], arr[pivot_index] = arr[pivot_index], arr[0]\n",
    "    return quick_sort_deterministic(arr)"
   ]
  },
  {
   "cell_type": "code",
   "execution_count": 9,
   "id": "e7988bdb-171e-4748-86d8-550d1bec8a76",
   "metadata": {},
   "outputs": [
    {
     "name": "stdin",
     "output_type": "stream",
     "text": [
      "Enter array length:  3\n",
      "Enter element:  1\n",
      "Enter element:  3\n",
      "Enter element:  2\n"
     ]
    }
   ],
   "source": [
    "n = int(input(\"Enter array length: \"))\n",
    "arr = []\n",
    "for i in range (0,n):\n",
    "    x = int(input(\"Enter element: \"))\n",
    "    arr.append(x)"
   ]
  },
  {
   "cell_type": "code",
   "execution_count": 10,
   "id": "9a4838ae-d7d9-4616-9b36-4821b012710b",
   "metadata": {},
   "outputs": [],
   "source": [
    "import time"
   ]
  },
  {
   "cell_type": "code",
   "execution_count": 11,
   "id": "16defee3-7591-4780-8a0e-966577c9842c",
   "metadata": {},
   "outputs": [],
   "source": [
    "start_time = time.time()\n",
    "deterministic_result = quick_sort_deterministic(arr.copy())\n",
    "end_time = time.time()\n",
    "deterministic_time = end_time - start_time"
   ]
  },
  {
   "cell_type": "code",
   "execution_count": 12,
   "id": "946947b0-19ef-47c5-b9cc-6ec0ecf9fa2d",
   "metadata": {},
   "outputs": [],
   "source": [
    "start_time = time.time()\n",
    "randomized_result = quick_sort_randomized(arr.copy())\n",
    "end_time = time.time()\n",
    "randomized_time = end_time - start_time"
   ]
  },
  {
   "cell_type": "code",
   "execution_count": 13,
   "id": "dff3bf70-6aa2-46a9-ae4e-276e28ccf4d0",
   "metadata": {},
   "outputs": [
    {
     "name": "stdout",
     "output_type": "stream",
     "text": [
      "Deterministic Quick Sort:\n",
      "Sorted array: [1, 2, 3]\n",
      "Time taken: 4.363059997558594e-05 seconds\n",
      "\n",
      "Randomized Quick Sort:\n",
      "Sorted array: [1, 2, 3]\n",
      "Time taken: 4.863739013671875e-05 seconds\n"
     ]
    }
   ],
   "source": [
    "print(\"Deterministic Quick Sort:\")\n",
    "print(\"Sorted array:\", deterministic_result)\n",
    "print(\"Time taken:\", deterministic_time, \"seconds\")\n",
    "print(\"\\nRandomized Quick Sort:\")\n",
    "print(\"Sorted array:\", randomized_result)\n",
    "print(\"Time taken:\", randomized_time, \"seconds\")"
   ]
  },
  {
   "cell_type": "code",
   "execution_count": null,
   "id": "55bf42c2-b7a8-4bac-837a-8231ee99bcfa",
   "metadata": {},
   "outputs": [],
   "source": []
  }
 ],
 "metadata": {
  "kernelspec": {
   "display_name": "Python 3 (ipykernel)",
   "language": "python",
   "name": "python3"
  },
  "language_info": {
   "codemirror_mode": {
    "name": "ipython",
    "version": 3
   },
   "file_extension": ".py",
   "mimetype": "text/x-python",
   "name": "python",
   "nbconvert_exporter": "python",
   "pygments_lexer": "ipython3",
   "version": "3.10.12"
  }
 },
 "nbformat": 4,
 "nbformat_minor": 5
}
