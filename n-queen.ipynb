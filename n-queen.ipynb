{
 "cells": [
  {
   "cell_type": "code",
   "execution_count": null,
   "metadata": {},
   "outputs": [],
   "source": [
    "n = int(input(\"Enter the value for n: \"))\n",
    "\n",
    "# Initialize board with 0s\n",
    "board = [[0 for _ in range(n)] for _ in range(n)]\n",
    "\n",
    "# Function to check if a queen can be placed in the column and diagonal\n",
    "def is_safe(board, row, col):\n",
    "    # Check column and diagonals for any queen in previous rows\n",
    "    for i in range(row):\n",
    "        if board[i][col] == 1 or \\\n",
    "           (col - (row - i) >= 0 and board[i][col - (row - i)] == 1) or \\\n",
    "           (col + (row - i) < n and board[i][col + (row - i)] == 1):\n",
    "            return False\n",
    "    return True\n",
    "\n",
    "# Recursive backtracking function to place queens\n",
    "def solve_n_queens(board, row, first_row, first_col):\n",
    "    if row == n:\n",
    "        return True\n",
    "    # Skip the row with the first queen\n",
    "    if row == first_row:\n",
    "        return solve_n_queens(board, row + 1, first_row, first_col)\n",
    "    for col in range(n):\n",
    "        # Skip the column where the first queen is placed\n",
    "        if col == first_col:\n",
    "            continue\n",
    "        if is_safe(board, row, col):\n",
    "            board[row][col] = 1\n",
    "            if solve_n_queens(board, row + 1, first_row, first_col):\n",
    "                return True\n",
    "            board[row][col] = 0\n",
    "    return False\n",
    "\n",
    "# Get the user's choice for the first queen's position\n",
    "first_row = int(input(f\"Enter the row (0 to {n-1}) for the first queen: \"))\n",
    "first_col = int(input(f\"Enter the column (0 to {n-1}) for the first queen: \"))\n",
    "\n",
    "# Place the first queen as per user's input\n",
    "board[first_row][first_col] = 1\n",
    "\n",
    "# Start solving from the first row\n",
    "if solve_n_queens(board, 0, first_row, first_col):\n",
    "    for row in board:\n",
    "        print(row)\n",
    "else:\n",
    "    print(\"No solution exists\")\n"
   ]
  },
  {
   "cell_type": "code",
   "execution_count": null,
   "metadata": {},
   "outputs": [],
   "source": []
  }
 ],
 "metadata": {
  "language_info": {
   "name": "python"
  },
  "orig_nbformat": 4
 },
 "nbformat": 4,
 "nbformat_minor": 2
}
