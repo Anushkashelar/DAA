{
 "cells": [
  {
   "cell_type": "code",
   "execution_count": 20,
   "id": "130805a9-1c00-425f-a0da-22625d1e4b38",
   "metadata": {},
   "outputs": [],
   "source": [
    "def print_solution(board):\n",
    "    for row in board:\n",
    "        print(\" \".join(str(x) for x in row))\n",
    "    print()"
   ]
  },
  {
   "cell_type": "code",
   "execution_count": 21,
   "id": "5fb6a5ce-1348-4539-af25-28fe6d639112",
   "metadata": {},
   "outputs": [],
   "source": [
    "def is_safe(board, row, col, n):\n",
    "    for i in range(col):\n",
    "        if board[row][i] == 1:\n",
    "            return False\n",
    "\n",
    "    for i, j in zip(range(row, -1, -1), range(col, -1, -1)):\n",
    "        if board[i][j] == 1:\n",
    "            return False\n",
    "\n",
    "    for i, j in zip(range(row, n), range(col, -1, -1)):\n",
    "        if board[i][j] == 1:\n",
    "            return False\n",
    "\n",
    "    return True"
   ]
  },
  {
   "cell_type": "code",
   "execution_count": 22,
   "id": "03fe1e46-83a6-4259-8423-e516c3499205",
   "metadata": {},
   "outputs": [],
   "source": [
    "def solve_n_queens(board, col, n):\n",
    "    if col >= n:\n",
    "        return True\n",
    "    # Try placing queens in all rows in the current column\n",
    "    for i in range(n):\n",
    "        if board[i][col] == 0 and is_safe(board, i, col, n):\n",
    "            board[i][col] = 1\n",
    "            \n",
    "            # Recur to place the rest of the queens\n",
    "            if solve_n_queens(board, col + 1, n):\n",
    "                return True\n",
    "            # If placing queen in board[i][col] doesn't lead to a solution, remove the queen\n",
    "            board[i][col] = 0\n",
    "    # If no queen can be placed in this column, return False\n",
    "    return False"
   ]
  },
  {
   "cell_type": "code",
   "execution_count": 23,
   "id": "c0f82d2e-66c6-483b-adfc-c2f1791e6d2d",
   "metadata": {},
   "outputs": [],
   "source": [
    "def solve_n_queens_with_first_queen(n, row, col):\n",
    "    # Initialize board\n",
    "    board = [[0 for _ in range(n)] for _ in range(n)]\n",
    "    \n",
    "    # Place the first queen at the given position\n",
    "    board[row][col] = 1\n",
    "    print(f\"First queen placed at ({row}, {col})\")\n",
    "    print_solution(board)\n",
    "    \n",
    "    # Solve the remaining queens problem\n",
    "    if solve_n_queens(board, 0 if col > 0 else 1, n):\n",
    "        print(\"\\n\\nFinal solution:\")\n",
    "        print_solution(board)\n",
    "    else:\n",
    "        print(\"\\n\\nSolution does not exist.\")"
   ]
  },
  {
   "cell_type": "code",
   "execution_count": 25,
   "id": "8767d92b-2204-4e00-88a5-b8f40be840e1",
   "metadata": {},
   "outputs": [
    {
     "name": "stdin",
     "output_type": "stream",
     "text": [
      "Enter the value of n:  8\n",
      "Enter the row of first queen:  3\n",
      "Enter the column of first queen:  4\n"
     ]
    },
    {
     "name": "stdout",
     "output_type": "stream",
     "text": [
      "First queen placed at (3, 4)\n",
      "0 0 0 0 0 0 0 0\n",
      "0 0 0 0 0 0 0 0\n",
      "0 0 0 0 0 0 0 0\n",
      "0 0 0 0 1 0 0 0\n",
      "0 0 0 0 0 0 0 0\n",
      "0 0 0 0 0 0 0 0\n",
      "0 0 0 0 0 0 0 0\n",
      "0 0 0 0 0 0 0 0\n",
      "\n",
      "\n",
      "\n",
      "Final solution:\n",
      "1 0 0 0 0 0 0 0\n",
      "0 0 0 0 0 1 0 0\n",
      "0 0 0 0 0 0 0 1\n",
      "0 0 1 0 1 0 0 0\n",
      "0 0 0 0 0 0 1 0\n",
      "0 0 0 1 0 0 0 0\n",
      "0 1 0 0 0 0 0 0\n",
      "0 0 0 0 1 0 0 0\n",
      "\n"
     ]
    }
   ],
   "source": [
    "n = int(input(\"Enter the value of n: \"))\n",
    "if n <= 0:\n",
    "    print(\"Please enter a positive integer for 'n'.\")\n",
    "    exit(0)\n",
    "    \n",
    "first_queen_row = int(input(\"Enter the row of first queen: \"))\n",
    "first_queen_col = int(input(\"Enter the column of first queen: \"))\n",
    "\n",
    "solve_n_queens_with_first_queen(n, first_queen_row, first_queen_col)"
   ]
  },
  {
   "cell_type": "code",
   "execution_count": null,
   "id": "f3aca912-cfe9-44d2-91a1-12a622f3253d",
   "metadata": {},
   "outputs": [],
   "source": []
  },
  {
   "cell_type": "code",
   "execution_count": null,
   "id": "136fc9bc-9f43-4e29-9e23-9e6abc0ff9b8",
   "metadata": {},
   "outputs": [],
   "source": []
  }
 ],
 "metadata": {
  "kernelspec": {
   "display_name": "Python 3 (ipykernel)",
   "language": "python",
   "name": "python3"
  },
  "language_info": {
   "codemirror_mode": {
    "name": "ipython",
    "version": 3
   },
   "file_extension": ".py",
   "mimetype": "text/x-python",
   "name": "python",
   "nbconvert_exporter": "python",
   "pygments_lexer": "ipython3",
   "version": "3.10.12"
  }
 },
 "nbformat": 4,
 "nbformat_minor": 5
}
