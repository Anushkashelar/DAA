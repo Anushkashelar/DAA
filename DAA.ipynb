{
 "cells": [
  {
   "cell_type": "code",
   "execution_count": 12,
   "id": "47b31a06-aedc-4328-b3a9-718b078bfad6",
   "metadata": {},
   "outputs": [
    {
     "name": "stdin",
     "output_type": "stream",
     "text": [
      "Enter the limit:  10\n"
     ]
    },
    {
     "name": "stdout",
     "output_type": "stream",
     "text": [
      "0 1 1 2 3 5 8 13 21 34 \n",
      "The 10th Fibonacci number is: 34\n"
     ]
    }
   ],
   "source": [
    "def iterative_fibonacci(n):\n",
    "    if n <= 0:\n",
    "        return \"Input should be a positive integer.\"\n",
    "    elif n == 1:\n",
    "        print(0)  # For n = 1, only the first Fibonacci number is printed\n",
    "        return 0\n",
    "    elif n == 2:\n",
    "        print(0, 1)  # For n = 2, print the first two Fibonacci numbers\n",
    "        return 1\n",
    "    \n",
    "    a, b = 0, 1\n",
    "    print(a, b, end=\" \")  # Print the first two Fibonacci numbers\n",
    "    \n",
    "    for i in range(2, n):\n",
    "        c = a + b\n",
    "        print(c, end=\" \")  # Print the next Fibonacci number\n",
    "        a, b = b, c  # Update a and b for the next iteration\n",
    "    \n",
    "    print()  # For a new line after printing the series\n",
    "    return b  # b now holds the nth Fibonacci number\n",
    "\n",
    "\n",
    "# Get user input\n",
    "n = int(input(\"Enter the limit: \"))\n",
    "nth_fib = iterative_fibonacci(n)\n",
    "print(f\"The {n}th Fibonacci number is: {nth_fib}\")"
   ]
  },
  {
   "cell_type": "code",
   "execution_count": 15,
   "id": "c1f82515-0b09-4ee5-88ff-a23a35287bc5",
   "metadata": {},
   "outputs": [
    {
     "name": "stdin",
     "output_type": "stream",
     "text": [
      "Enter the limit:  10\n"
     ]
    },
    {
     "name": "stdout",
     "output_type": "stream",
     "text": [
      "Fibonacci sequence:\n",
      "0 1 1 2 3 5 8 13 21 34 \n",
      "The 10th Fibonacci number is: 34\n"
     ]
    }
   ],
   "source": [
    "def recursive_fibonacci(n):\n",
    "    if n <= 1:\n",
    "        return n\n",
    "    else:\n",
    "        return recursive_fibonacci(n - 1) + recursive_fibonacci(n - 2)\n",
    "\n",
    "\n",
    "# Get user input\n",
    "n = int(input(\"Enter the limit: \"))\n",
    "\n",
    "# Print Fibonacci numbers recursively\n",
    "print(\"Fibonacci sequence:\")\n",
    "for i in range(n):\n",
    "    print(recursive_fibonacci(i), end=\" \")\n",
    "\n",
    "print()  # For a new line\n",
    "\n",
    "# Print the nth Fibonacci number (adjusted for 0-indexing)\n",
    "print(f\"The {n}th Fibonacci number is: {recursive_fibonacci(n-1)}\")"
   ]
  },
  {
   "cell_type": "code",
   "execution_count": 18,
   "id": "b02cd092-c8c1-482a-876a-3a575a7d96ca",
   "metadata": {},
   "outputs": [
    {
     "name": "stdin",
     "output_type": "stream",
     "text": [
      "Enter the number of items:  3\n",
      "Enter weight:  10\n",
      "Enter profit:  30\n",
      "Enter weight:  20\n",
      "Enter profit:  60\n",
      "Enter weight:  30\n",
      "Enter profit:  60\n"
     ]
    },
    {
     "name": "stdout",
     "output_type": "stream",
     "text": [
      "Items sorted by profit-to-weight ratio: [20, 10, 30]\n"
     ]
    },
    {
     "name": "stdin",
     "output_type": "stream",
     "text": [
      "Enter the capacity of the sack:  50\n"
     ]
    },
    {
     "name": "stdout",
     "output_type": "stream",
     "text": [
      "Maximum profit: 130.0\n"
     ]
    }
   ],
   "source": [
    "itr = int(input(\"Enter the number of items: \"))  # Number of items\n",
    "W = {}\n",
    "ratio = []\n",
    "\n",
    "# Input weights and profits, and calculate the profit-to-weight ratio\n",
    "for i in range(itr):\n",
    "    w = int(input(\"Enter weight: \"))\n",
    "    p = int(input(\"Enter profit: \"))\n",
    "    W[w] = p\n",
    "    ratio.append(p/w)\n",
    "\n",
    "# Sort items by profit-to-weight ratio in descending order\n",
    "z = [x for _, x in sorted(zip(ratio, W), reverse=True)]\n",
    "print(\"Items sorted by profit-to-weight ratio:\", z)\n",
    "\n",
    "C = int(input(\"Enter the capacity of the sack: \"))  # Capacity of the knapsack\n",
    "P = 0  # Total profit\n",
    "\n",
    "# Loop through items and calculate the maximum profit\n",
    "for i in range(itr):\n",
    "    if C <= 0:\n",
    "        break\n",
    "    if z[i] <= C:\n",
    "        C -= z[i]\n",
    "        P += W[z[i]]\n",
    "    else:\n",
    "        P += W[z[i]] * (C / z[i])\n",
    "        break  # Knapsack is full after taking a fraction of the current item\n",
    "\n",
    "print(f\"Maximum profit: {P}\")"
   ]
  },
  {
   "cell_type": "code",
   "execution_count": 20,
   "id": "9ec2cd54-0e61-4ee9-9554-6df8dbc5cb39",
   "metadata": {},
   "outputs": [
    {
     "name": "stdin",
     "output_type": "stream",
     "text": [
      "Enter the number of objects to be inserted:  3\n",
      "Enter the capacity of the sack:  50\n",
      "Enter the weight:  10\n",
      "Enter the profit:  60\n",
      "Enter the weight:  20\n",
      "Enter the profit:  100\n",
      "Enter the weight:  30\n",
      "Enter the profit:  120\n"
     ]
    },
    {
     "name": "stdout",
     "output_type": "stream",
     "text": [
      "The maximum profit is: 220\n"
     ]
    }
   ],
   "source": [
    "# Input number of items and sack capacity\n",
    "itr = int(input(\"Enter the number of objects to be inserted: \"))\n",
    "C = int(input(\"Enter the capacity of the sack: \"))\n",
    "\n",
    "# Input weights and profits as a dictionary {weight: profit}\n",
    "W = {int(input(\"Enter the weight: \")): \n",
    "     int(input(\"Enter the profit: \")) \n",
    "     for _ in range(itr)}\n",
    "\n",
    "# List of weights\n",
    "z = list(W)\n",
    "\n",
    "# D array to store maximum profit up to capacity C\n",
    "D = [0] * (C + 1)\n",
    "\n",
    "# Iterate over each item\n",
    "for i in range(itr):\n",
    "    # Update D array in reverse order to prevent overwriting values\n",
    "    for j in range(C, z[i] - 1, -1):\n",
    "        D[j] = max(D[j], D[j - z[i]] + W[z[i]])\n",
    "\n",
    "# Maximum profit is stored in D[C]\n",
    "print(f\"The maximum profit is: {D[C]}\")"
   ]
  },
  {
   "cell_type": "code",
   "execution_count": 21,
   "id": "789b3a49-a657-4b7e-a670-910830cc0b80",
   "metadata": {},
   "outputs": [
    {
     "name": "stdin",
     "output_type": "stream",
     "text": [
      "Enter the value for n:  4\n"
     ]
    },
    {
     "name": "stdout",
     "output_type": "stream",
     "text": [
      "[0, 1, 0, 0]\n",
      "[0, 0, 0, 1]\n",
      "[1, 0, 0, 0]\n",
      "[0, 0, 1, 0]\n"
     ]
    }
   ],
   "source": [
    "n = int(input(\"Enter the value for n: \"))\n",
    "\n",
    "# Initialize board with 0s\n",
    "board = [[0 for _ in range(n)] for _ in range(n)]\n",
    "\n",
    "# Function to check if a queen can be placed in the column and diagonal\n",
    "def is_safe(board, row, col):\n",
    "    for i in range(row):\n",
    "        if board[i][col] == 1 or \\\n",
    "           (col - (row - i) >= 0 and board[i][col - (row - i)] == 1) or \\\n",
    "           (col + (row - i) < n and board[i][col + (row - i)] == 1):\n",
    "            return False\n",
    "    return True\n",
    "\n",
    "# Recursive backtracking function to place queens\n",
    "def solve_n_queens(board, row):\n",
    "    if row == n:\n",
    "        return True\n",
    "    for col in range(n):\n",
    "        if is_safe(board, row, col):\n",
    "            board[row][col] = 1\n",
    "            if solve_n_queens(board, row + 1):\n",
    "                return True\n",
    "            board[row][col] = 0\n",
    "    return False\n",
    "\n",
    "# Solve and print the board\n",
    "if solve_n_queens(board, 0):\n",
    "    for row in board:\n",
    "        print(row)\n",
    "else:\n",
    "    print(\"No solution exists\")"
   ]
  },
  {
   "cell_type": "code",
   "execution_count": 23,
   "id": "c4b23c48-8668-47ae-826d-606fdd2322fe",
   "metadata": {},
   "outputs": [
    {
     "name": "stdin",
     "output_type": "stream",
     "text": [
      "Enter the number of elements:  5\n",
      "Enter element:  5\n",
      "Enter element:  12\n",
      "Enter element:  45\n",
      "Enter element:  8\n",
      "Enter element:  36\n"
     ]
    },
    {
     "name": "stdout",
     "output_type": "stream",
     "text": [
      "[5, 8, 12, 36, 45]\n"
     ]
    }
   ],
   "source": [
    "def partition(arr, low, high):\n",
    "    pivot = arr[high]  # Select the last element as pivot\n",
    "    i = low - 1  # Pointer for the smaller element\n",
    "    for j in range(low, high):\n",
    "        if arr[j] < pivot:  # If the current element is smaller than the pivot\n",
    "            i += 1\n",
    "            arr[i], arr[j] = arr[j], arr[i]  # Swap elements\n",
    "    arr[i + 1], arr[high] = arr[high], arr[i + 1]  # Swap the pivot element with the element at i + 1\n",
    "    return i + 1  # Return the partitioning index\n",
    "\n",
    "def QS(arr, low, high):\n",
    "    if low < high:  # If the array has more than one element\n",
    "        pi = partition(arr, low, high)  # Partitioning index\n",
    "        QS(arr, low, pi - 1)  # Recursively sort elements before partition\n",
    "        QS(arr, pi + 1, high)  # Recursively sort elements after partition\n",
    "\n",
    "# Input from user\n",
    "l = int(input(\"Enter the number of elements: \"))\n",
    "arr = []\n",
    "for i in range(l):\n",
    "    x = int(input(\"Enter element: \"))\n",
    "    arr.append(x)\n",
    "\n",
    "QS(arr, 0, l - 1)  # Call QuickSort\n",
    "print(arr)  # Print the sorted array"
   ]
  },
  {
   "cell_type": "code",
   "execution_count": 1,
   "id": "c9563dcd-a1e0-4fe3-ba65-f7e1a8c93065",
   "metadata": {},
   "outputs": [
    {
     "name": "stdin",
     "output_type": "stream",
     "text": [
      "Enter the number of elements:  4\n",
      "Enter element 1:  56\n",
      "Enter element 2:  21\n",
      "Enter element 3:  12\n",
      "Enter element 4:  14\n"
     ]
    },
    {
     "name": "stdout",
     "output_type": "stream",
     "text": [
      "Original array: [56, 21, 12, 14]\n",
      "Sorted array (Deterministic): [12, 14, 21, 56]\n"
     ]
    },
    {
     "name": "stdin",
     "output_type": "stream",
     "text": [
      "Enter element 1:  36\n",
      "Enter element 2:  24\n",
      "Enter element 3:  54\n",
      "Enter element 4:  85\n"
     ]
    },
    {
     "name": "stdout",
     "output_type": "stream",
     "text": [
      "Original array: [36, 24, 54, 85]\n",
      "Sorted array (Randomized): [24, 36, 54, 85]\n"
     ]
    }
   ],
   "source": [
    "import random\n",
    "\n",
    "# Deterministic partition function\n",
    "def partition(arr, low, high):\n",
    "    pivot = arr[high]\n",
    "    i = low - 1\n",
    "    for j in range(low, high):\n",
    "        if arr[j] < pivot:\n",
    "            i += 1\n",
    "            arr[i], arr[j] = arr[j], arr[i]  # Swap elements\n",
    "    arr[i + 1], arr[high] = arr[high], arr[i + 1]  # Place pivot correctly\n",
    "    return i + 1\n",
    "\n",
    "# Deterministic Quick Sort\n",
    "def quick_sort_deterministic(arr, low, high):\n",
    "    if low < high:\n",
    "        pi = partition(arr, low, high)\n",
    "        quick_sort_deterministic(arr, low, pi - 1)  # Recursively sort left part\n",
    "        quick_sort_deterministic(arr, pi + 1, high)  # Recursively sort right part\n",
    "\n",
    "# Randomized partition function\n",
    "def randomized_partition(arr, low, high):\n",
    "    rand_index = random.randint(low, high)  # Choose a random pivot\n",
    "    arr[high], arr[rand_index] = arr[rand_index], arr[high]  # Swap pivot with the last element\n",
    "    return partition(arr, low, high)  # Use the same partition logic\n",
    "\n",
    "# Randomized Quick Sort\n",
    "def quick_sort_randomized(arr, low, high):\n",
    "    if low < high:\n",
    "        pi = randomized_partition(arr, low, high)\n",
    "        quick_sort_randomized(arr, low, pi - 1)  # Recursively sort left part\n",
    "        quick_sort_randomized(arr, pi + 1, high)  # Recursively sort right part\n",
    "\n",
    "# Input and driver code\n",
    "I = int(input(\"Enter the number of elements: \"))\n",
    "arr = []\n",
    "for i in range(I):\n",
    "    x = int(input(f\"Enter element {i+1}: \"))\n",
    "    arr.append(x)\n",
    "\n",
    "# Sorting using Deterministic Quick Sort\n",
    "print(\"Original array:\", arr)\n",
    "quick_sort_deterministic(arr, 0, I - 1)\n",
    "print(\"Sorted array (Deterministic):\", arr)\n",
    "\n",
    "# Reset the array to original input\n",
    "arr = []\n",
    "for i in range(I):\n",
    "    x = int(input(f\"Enter element {i+1}: \"))\n",
    "    arr.append(x)\n",
    "\n",
    "# Sorting using Randomized Quick Sort\n",
    "print(\"Original array:\", arr)\n",
    "quick_sort_randomized(arr, 0, I - 1)\n",
    "print(\"Sorted array (Randomized):\", arr)"
   ]
  }
 ],
 "metadata": {
  "kernelspec": {
   "display_name": "Python 3 (ipykernel)",
   "language": "python",
   "name": "python3"
  },
  "language_info": {
   "codemirror_mode": {
    "name": "ipython",
    "version": 3
   },
   "file_extension": ".py",
   "mimetype": "text/x-python",
   "name": "python",
   "nbconvert_exporter": "python",
   "pygments_lexer": "ipython3",
   "version": "3.12.3"
  }
 },
 "nbformat": 4,
 "nbformat_minor": 5
}
