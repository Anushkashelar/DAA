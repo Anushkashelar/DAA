{
 "cells": [
  {
   "cell_type": "code",
   "execution_count": 5,
   "id": "ce6b489e-3304-49f7-bfe7-c4a61f7b052e",
   "metadata": {},
   "outputs": [
    {
     "name": "stdout",
     "output_type": "stream",
     "text": [
      "Enter the size of the board (N):  8\n",
      "Enter the row (0 to 7) of the first queen:  0\n",
      "Enter the column (0 to 7) of the first queen:  3\n"
     ]
    },
    {
     "name": "stdout",
     "output_type": "stream",
     "text": [
      "Q . . Q . . . .\n",
      ". . . . . . Q .\n",
      ". . . . Q . . .\n",
      ". . . . . . . Q\n",
      ". Q . . . . . .\n",
      ". . . Q . . . .\n",
      ". . . . . Q . .\n",
      ". . Q . . . . .\n",
      "\n"
     ]
    }
   ],
   "source": [
    "def print_solution(board):\n",
    "    for row in board:\n",
    "        print(\" \".join(str(x) for x in row))\n",
    "    print()\n",
    "    \n",
    "def is_safe(board, row, col, n):\n",
    "    for i in range(col):\n",
    "        if board[row][i] == 1:\n",
    "            return False\n",
    "\n",
    "    for i, j in zip(range(row, -1, -1), range(col, -1, -1)):\n",
    "        if board[i][j] == 1:\n",
    "            return False\n",
    "\n",
    "    for i, j in zip(range(row, n), range(col, -1, -1)):\n",
    "        if board[i][j] == 1:\n",
    "            return False\n",
    "\n",
    "    return True\n",
    "    \n",
    "def solve_n_queens(board, col, n):\n",
    "    if col >= n:\n",
    "        return True\n",
    "    # Try placing queens in all rows in the current column\n",
    "    for i in range(n):\n",
    "        if board[i][col] == 0 and is_safe(board, i, col, n):\n",
    "            board[i][col] = 1\n",
    "            \n",
    "            # Recur to place the rest of the queens\n",
    "            if solve_n_queens(board, col + 1, n):\n",
    "                return True\n",
    "            # If placing queen in board[i][col] doesn't lead to a solution, remove the queen\n",
    "            board[i][col] = 0\n",
    "    # If no queen can be placed in this column, return False\n",
    "    return False\n",
    "\n",
    "def solve_n_queens_with_first_queen(n, row, col):\n",
    "    # Initialize board\n",
    "    board = [[0 for _ in range(n)] for _ in range(n)]\n",
    "    \n",
    "    # Place the first queen at the given position\n",
    "    board[row][col] = 1\n",
    "    print(f\"First queen placed at ({row}, {col})\")\n",
    "    print_solution(board)\n",
    "    \n",
    "    # Solve the remaining queens problem\n",
    "    if solve_n_queens(board, 0 if col > 0 else 1, n):\n",
    "        print(\"\\n\\nFinal solution:\")\n",
    "        print_solution(board)\n",
    "    else:\n",
    "        print(\"\\n\\nSolution does not exist.\")\n",
    "        \n",
    "n = int(input(\"Enter the value of n: \"))\n",
    "# if n <= 0:\n",
    "#     print(\"Please enter a positive integer for 'n'.\")\n",
    "#     exit(0)\n",
    "    \n",
    "first_queen_row = int(input(\"Enter the row of first queen: \"))\n",
    "first_queen_col = int(input(\"Enter the column of first queen: \"))\n",
    "\n",
    "solve_n_queens_with_first_queen(n, first_queen_row, first_queen_col)"
   ]
  },
  {
   "cell_type": "code",
   "execution_count": null,
   "id": "1138bf26-a5cf-4ef1-a112-ec2a7d165311",
   "metadata": {},
   "outputs": [],
   "source": []
  }
 ],
 "metadata": {
  "kernelspec": {
   "display_name": "Python 3 (ipykernel)",
   "language": "python",
   "name": "python3"
  },
  "language_info": {
   "codemirror_mode": {
    "name": "ipython",
    "version": 3
   },
   "file_extension": ".py",
   "mimetype": "text/x-python",
   "name": "python",
   "nbconvert_exporter": "python",
   "pygments_lexer": "ipython3",
   "version": "3.10.12"
  }
 },
 "nbformat": 4,
 "nbformat_minor": 5
}
